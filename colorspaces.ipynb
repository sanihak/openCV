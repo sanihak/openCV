{
 "cells": [
  {
   "cell_type": "code",
   "execution_count": null,
   "id": "89935304-a0b6-49fe-a509-35780809c1a4",
   "metadata": {},
   "outputs": [],
   "source": [
    "import os\n",
    "import cv2"
   ]
  },
  {
   "cell_type": "code",
   "execution_count": null,
   "id": "aed9500b-9bc0-483c-bdae-2708bb4b036f",
   "metadata": {},
   "outputs": [],
   "source": [
    "img = cv2.imread(os.path.join('.','bird.jpg'))\n",
    "img_rgb = cv2.cvtColor(img,  cv2.COLOR_BGR2RGB)\n",
    "img_gray = cv2.cvtColor(img,  cv2.COLOR_BGR2GRAY)\n",
    "img_hsv = cv2.cvtColor(img,cv2.COLOR_BGR2HSV)"
   ]
  },
  {
   "cell_type": "code",
   "execution_count": null,
   "id": "08129028-be76-437a-8999-6c37177d771a",
   "metadata": {},
   "outputs": [],
   "source": [
    "cv2.imshow('img',img)\n",
    "cv2.imshow('img_gray',img_gray)\n",
    "cv2.imshow('img_rgb',img_rgb)\n",
    "cv2.imshow('img_hsv',img_hsv)\n",
    "\n",
    "cv2.waitKey(0)"
   ]
  },
  {
   "cell_type": "code",
   "execution_count": null,
   "id": "1eeff0a4-4347-4ade-831c-4c5d81cff0f4",
   "metadata": {},
   "outputs": [],
   "source": []
  }
 ],
 "metadata": {
  "kernelspec": {
   "display_name": "Python 3 (ipykernel)",
   "language": "python",
   "name": "python3"
  },
  "language_info": {
   "codemirror_mode": {
    "name": "ipython",
    "version": 3
   },
   "file_extension": ".py",
   "mimetype": "text/x-python",
   "name": "python",
   "nbconvert_exporter": "python",
   "pygments_lexer": "ipython3",
   "version": "3.13.1"
  }
 },
 "nbformat": 4,
 "nbformat_minor": 5
}
