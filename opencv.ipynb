{
 "cells": [
  {
   "cell_type": "code",
   "execution_count": 1,
   "id": "1c61cf10-8c27-483e-af82-74e396acf5df",
   "metadata": {},
   "outputs": [],
   "source": [
    "import cv2\n",
    "import os"
   ]
  },
  {
   "cell_type": "code",
   "execution_count": 2,
   "id": "79b2c0f5-2c3d-41fd-a56b-ba6da79faa1c",
   "metadata": {},
   "outputs": [],
   "source": [
    "#read image\n",
    "image_path = os.path.join('.','data','bitd.jpg')"
   ]
  },
  {
   "cell_type": "code",
   "execution_count": 3,
   "id": "0f01cf1b-abff-4e47-8a86-c4acabdb2a33",
   "metadata": {},
   "outputs": [
    {
     "name": "stdout",
     "output_type": "stream",
     "text": [
      "[[[ 64  79  88]\n",
      "  [ 63  78  87]\n",
      "  [ 63  78  87]\n",
      "  ...\n",
      "  [126  86 181]\n",
      "  [ 95  52 155]\n",
      "  [ 76  32 139]]\n",
      "\n",
      " [[ 64  79  88]\n",
      "  [ 63  78  87]\n",
      "  [ 63  78  87]\n",
      "  ...\n",
      "  [135  94 191]\n",
      "  [102  59 164]\n",
      "  [ 81  36 146]]\n",
      "\n",
      " [[ 64  79  88]\n",
      "  [ 63  78  87]\n",
      "  [ 63  78  87]\n",
      "  ...\n",
      "  [139 101 197]\n",
      "  [106  64 171]\n",
      "  [ 85  42 153]]\n",
      "\n",
      " ...\n",
      "\n",
      " [[ 13  25  19]\n",
      "  [ 17  31  25]\n",
      "  [ 25  39  35]\n",
      "  ...\n",
      "  [ 39  33  90]\n",
      "  [ 32  37  82]\n",
      "  [ 28  38  78]]\n",
      "\n",
      " [[ 11  21  15]\n",
      "  [ 17  27  21]\n",
      "  [ 23  34  31]\n",
      "  ...\n",
      "  [ 44  30  94]\n",
      "  [ 38  34  86]\n",
      "  [ 31  36  81]]\n",
      "\n",
      " [[ 13  19  14]\n",
      "  [ 17  24  19]\n",
      "  [ 22  31  28]\n",
      "  ...\n",
      "  [ 47  28  97]\n",
      "  [ 39  32  89]\n",
      "  [ 35  34  84]]]\n"
     ]
    }
   ],
   "source": [
    "img = cv2.imread('bird.jpg')\n",
    "print(img)"
   ]
  },
  {
   "cell_type": "code",
   "execution_count": 4,
   "id": "29da1709-6069-4ab0-aa48-52f1415ea939",
   "metadata": {},
   "outputs": [
    {
     "data": {
      "text/plain": [
       "False"
      ]
     },
     "execution_count": 4,
     "metadata": {},
     "output_type": "execute_result"
    }
   ],
   "source": [
    "cv2.imwrite(os.path.join('.','data','bitd_out.jpg'),img)"
   ]
  },
  {
   "cell_type": "code",
   "execution_count": 14,
   "id": "21b39765-5cbb-4a57-b64b-c0f4f562f4fa",
   "metadata": {},
   "outputs": [
    {
     "data": {
      "text/plain": [
       "106"
      ]
     },
     "execution_count": 14,
     "metadata": {},
     "output_type": "execute_result"
    }
   ],
   "source": [
    "cv2.imshow('image',img)\n",
    "cv2.waitKey(0)"
   ]
  },
  {
   "cell_type": "code",
   "execution_count": null,
   "id": "94bc908a-bc40-47cc-a34c-08b05a607fbe",
   "metadata": {},
   "outputs": [],
   "source": [
    "#read video\n",
    "video_path = os.path.join('.','data','monkey.mp4')\n",
    "video = cv2.videoCapture(video_path)\n",
    "\n",
    "ret = True\n",
    "while ret:\n",
    "    ret,frame = video.read()\n",
    "    if ret:\n",
    "        cv2.imshow('frame',frame)\n",
    "        cv2.waitKey(40)\n",
    "video.release()\n",
    "cv2.destroyAllWindows()\n",
    "        \n",
    "    "
   ]
  },
  {
   "cell_type": "code",
   "execution_count": 7,
   "id": "44a90952-bede-4b20-8cea-38265e3634d0",
   "metadata": {},
   "outputs": [],
   "source": [
    "#read webcam\n",
    "\n",
    "webcam = cv2.VideoCapture(0)\n",
    "\n",
    "#visualize webcam\n",
    "\n",
    "while True:\n",
    "    ret , frame = webcam.read()\n",
    "    cv2.imshow('frame',frame)\n",
    "    if cv2.waitKey(40) & 0xFF == ord('q'):\n",
    "        break\n",
    "    \n",
    "webcam.release()\n",
    "cv2.destroyAllWindows()\n"
   ]
  },
  {
   "cell_type": "code",
   "execution_count": null,
   "id": "758ecac2-91a4-4f0c-b748-6d940ed99d66",
   "metadata": {},
   "outputs": [],
   "source": []
  }
 ],
 "metadata": {
  "kernelspec": {
   "display_name": "Python 3 (ipykernel)",
   "language": "python",
   "name": "python3"
  },
  "language_info": {
   "codemirror_mode": {
    "name": "ipython",
    "version": 3
   },
   "file_extension": ".py",
   "mimetype": "text/x-python",
   "name": "python",
   "nbconvert_exporter": "python",
   "pygments_lexer": "ipython3",
   "version": "3.13.1"
  }
 },
 "nbformat": 4,
 "nbformat_minor": 5
}
