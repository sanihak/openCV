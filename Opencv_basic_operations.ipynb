{
 "cells": [
  {
   "cell_type": "code",
   "execution_count": null,
   "id": "ea7d9005-c3ef-45fa-93cf-cbfc9df10fb9",
   "metadata": {},
   "outputs": [],
   "source": [
    "#resizing\n",
    "\n",
    "import os\n",
    "import cv2\n"
   ]
  },
  {
   "cell_type": "code",
   "execution_count": null,
   "id": "0c2ab4e2-5eb2-43dd-8ce1-db47372b6fc9",
   "metadata": {},
   "outputs": [],
   "source": [
    "img = os.path.join('.','data','bird.jpg')\n",
    "cv2.imread(img)\n",
    "print(img)"
   ]
  },
  {
   "cell_type": "code",
   "execution_count": null,
   "id": "6e2ad6ae-2997-4871-bf3d-3e4d0939f9cd",
   "metadata": {},
   "outputs": [],
   "source": [
    "import cv2\n",
    "import os\n",
    "\n",
    "\n",
    "image_path = os.path.join('.', 'data', 'bird.jpg')\n",
    "\n",
    "# Read the image\n",
    "img = cv2.imread('bird.jpg')\n",
    "print(img.shape)\n",
    "\n",
    "if img is None:\n",
    "    print(\"Error: Image not found or unable to load.\")\n",
    "else:\n",
    "    # Display the image in a window\n",
    "    cv2.imshow('img', img)\n",
    "    cv2.waitKey(0)\n",
    "    cv2.destroyAllWindows()\n"
   ]
  },
  {
   "cell_type": "code",
   "execution_count": null,
   "id": "2a116147-4bba-4a7b-be13-386236ceb9b4",
   "metadata": {},
   "outputs": [],
   "source": [
    "resized_image = cv2.resize(img,(640,480))\n",
    "print(resized_image.shape)"
   ]
  },
  {
   "cell_type": "code",
   "execution_count": null,
   "id": "6a43f39b-a410-41a7-8d22-0113d6f5b59d",
   "metadata": {},
   "outputs": [],
   "source": []
  }
 ],
 "metadata": {
  "kernelspec": {
   "display_name": "Python 3 (ipykernel)",
   "language": "python",
   "name": "python3"
  },
  "language_info": {
   "codemirror_mode": {
    "name": "ipython",
    "version": 3
   },
   "file_extension": ".py",
   "mimetype": "text/x-python",
   "name": "python",
   "nbconvert_exporter": "python",
   "pygments_lexer": "ipython3",
   "version": "3.13.1"
  }
 },
 "nbformat": 4,
 "nbformat_minor": 5
}
