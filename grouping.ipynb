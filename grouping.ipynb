{
 "cells": [
  {
   "cell_type": "code",
   "execution_count": null,
   "id": "5c340e16-48e8-48a5-b2cc-f26bbf8bd28f",
   "metadata": {},
   "outputs": [],
   "source": [
    "import os\n",
    "\n",
    "import cv2"
   ]
  },
  {
   "cell_type": "code",
   "execution_count": null,
   "id": "6e464cca-736b-4800-b10f-b5d74629b954",
   "metadata": {},
   "outputs": [],
   "source": [
    "img = cv2.imread(os.path.join('.','bird.jpg'))\n",
    "print(img.shape)"
   ]
  },
  {
   "cell_type": "code",
   "execution_count": null,
   "id": "225263be-b783-44f2-98ae-f4d2e1127311",
   "metadata": {},
   "outputs": [],
   "source": [
    "cv2.imshow('img',img)\n",
    "cv2.waitKey(0)"
   ]
  },
  {
   "cell_type": "code",
   "execution_count": null,
   "id": "eb57cc76-a3b9-4666-84a7-0458786f0ee5",
   "metadata": {},
   "outputs": [],
   "source": [
    "print(img.shape)"
   ]
  },
  {
   "cell_type": "code",
   "execution_count": null,
   "id": "022fa643-f205-472d-afc0-6e4f476b873e",
   "metadata": {},
   "outputs": [],
   "source": [
    "cropped_image = img[220:740 , 320:840]"
   ]
  },
  {
   "cell_type": "code",
   "execution_count": null,
   "id": "51f3d5cd-fd86-4926-8bc5-cbade3dd0679",
   "metadata": {},
   "outputs": [],
   "source": [
    "cv2.imshow('cropped_image',cropped_image)\n",
    "cv2.waitKey(0)"
   ]
  },
  {
   "cell_type": "code",
   "execution_count": null,
   "id": "1f6e87ec-aaa0-45ed-9735-afc1ab65d65a",
   "metadata": {},
   "outputs": [],
   "source": []
  }
 ],
 "metadata": {
  "kernelspec": {
   "display_name": "Python 3 (ipykernel)",
   "language": "python",
   "name": "python3"
  },
  "language_info": {
   "codemirror_mode": {
    "name": "ipython",
    "version": 3
   },
   "file_extension": ".py",
   "mimetype": "text/x-python",
   "name": "python",
   "nbconvert_exporter": "python",
   "pygments_lexer": "ipython3",
   "version": "3.13.1"
  }
 },
 "nbformat": 4,
 "nbformat_minor": 5
}
